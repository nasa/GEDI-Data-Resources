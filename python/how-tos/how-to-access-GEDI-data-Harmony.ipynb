{
 "cells": [
  {
   "cell_type": "markdown",
   "id": "33b3743a-9a5e-4879-bb6f-f0299a8875ab",
   "metadata": {},
   "source": [
    "# Accessing GEDI data using NASA Harmony API  \n"
   ]
  },
  {
   "cell_type": "markdown",
   "id": "e446f0b6-a425-41c2-9b2d-dd55d9168e20",
   "metadata": {},
   "source": [
    "\n",
    "Harmony provides access to services that can transform data from NASA's [Earth Observing Systems Data and Information System (EOSDIS)](https://www.earthdata.nasa.gov/eosdis) Distributed Active Archive Centers (DAAC). [`harmony-py`](https://github.com/nasa/harmony-py) Python package is the recommended way of interacting with Harmony service. This notebook shows how to query and access customized [NASA's LP DAAC](https://lpdaac.usgs.gov/)  GEDI data outputs using [NASA's Harmony Services](https://harmony.earthdata.nasa.gov/).\n",
    "\n",
    "## Requirements\n",
    "\n",
    "- [NASA Earthdata Account](https://urs.earthdata.nasa.gov/home)\n",
    "- Compatible python environment\n",
    "\n",
    "We recommend using [mamba](https://mamba.readthedocs.io/en/latest/) to manage Python packages. To install `mamba`, download [miniforge](https://github.com/conda-forge/miniforge) for your operating system. If using Windows, be sure to check the box to \"Add mamba to my PATH environment variable\" to enable use of mamba directly from your command line interface. **Note that this may cause an issue if you have an existing mamba install through Anaconda.**\n",
    "\n",
    "You can create a compatible python environment by typing the following into your command line interface:\n",
    "\n",
    "```\n",
    "mamba create -n lp_tutorials -c conda-forge --yes python=3.12 fiona gdal hvplot geoviews rioxarray rasterio jupyter geopandas earthaccess jupyter_bokeh h5py h5netcdf spectral scikit-image jupyterlab seaborn dask harmony-py\n",
    "```\n",
    "\n",
    "Activate the environment by typing:\n",
    "\n",
    "```\n",
    "mamba activate lp_tutorials\n",
    "```\n",
    "\n",
    "Launch jupyter notebook by typing:\n",
    "\n",
    "```\n",
    "jupyter notebook\n",
    "```"
   ]
  },
  {
   "cell_type": "markdown",
   "id": "e4a721cf-5e29-4515-9a6a-a8be8ebb9179",
   "metadata": {},
   "source": [
    "## Authenticate"
   ]
  },
  {
   "cell_type": "code",
   "execution_count": null,
   "id": "595baf62-9081-48dd-9165-17adfb763d86",
   "metadata": {},
   "outputs": [],
   "source": [
    "from harmony import BBox, Client, Collection, Request, CapabilitiesRequest\n",
    "from datetime import datetime\n",
    "import json\n",
    "import earthaccess\n",
    "import geopandas as gp\n",
    "import os\n",
    "from IPython.display import JSON\n",
    "import h5py\n",
    "import pandas as pd\n",
    "from shapely.geometry import Point\n",
    "import hvplot.pandas\n",
    "\n",
    "os.chdir('../../')"
   ]
  },
  {
   "cell_type": "markdown",
   "id": "c0eba31c-1cab-410e-91d4-5648c13903b3",
   "metadata": {},
   "source": [
    "`earthaccess.login()` is used here to access NASA Earthdata Login (EDL) credentials store in a .netrc file and allows users to type their credentials and persist them into a .netrc file if one does not exist. "
   ]
  },
  {
   "cell_type": "code",
   "execution_count": 2,
   "id": "62183016-4b29-4bfa-a5af-7654f83c9b7d",
   "metadata": {},
   "outputs": [],
   "source": [
    "auth = earthaccess.login(persist=True)\n",
    "# auth.token"
   ]
  },
  {
   "cell_type": "markdown",
   "id": "c0ffb2b1-4b7d-488f-8ebc-a56199333555",
   "metadata": {},
   "source": [
    "To access data through Harmony service, we need to create a Harmony Client object using either your EDL token or your Earthdata Login credentials. Below, `username` and `password` are directly provided to `Client` function. See [here](https://github.com/nasa/harmony-py/blob/main/examples/intro_tutorial.ipynb) for other options you can create Harmony Client object. "
   ]
  },
  {
   "cell_type": "code",
   "execution_count": 3,
   "id": "2e487415-972b-4188-8af2-ca3af4d4ba3a",
   "metadata": {},
   "outputs": [],
   "source": [
    "harmony_client = Client(auth=(auth.username, auth.password)) "
   ]
  },
  {
   "cell_type": "markdown",
   "id": "a0306395-487b-4a21-9bcd-b8f6611b47fc",
   "metadata": {},
   "source": [
    "## Get the GEDI Collections Harmoney Capabilities"
   ]
  },
  {
   "cell_type": "markdown",
   "id": "2fecb7bc-13d0-477b-995c-09ebc7ff3a68",
   "metadata": {},
   "source": [
    "Let us start by submitting a capabilities request to see the transformation supported in Harmony API using the GEDI product short names ('GEDI02_A', 'GEDI02_B', 'GEDI01_B'). Besides the `conceptId` and available variables, You can view the supported transformation services. Supported transformation services and variables (such as variable subsetting, bounding box subsetting, shapefile subsetting, concatenation and reprojection, etc.) have `True` value. Based on the returned capabilities information for GEDI , we can submit a variable subsetting request, bounding box/shapefile subsetting, and temporal subsetting."
   ]
  },
  {
   "cell_type": "code",
   "execution_count": null,
   "id": "dfd797d2-33e2-477b-a421-0d21cc76813d",
   "metadata": {
    "scrolled": true
   },
   "outputs": [],
   "source": [
    "capabilities = harmony_client.submit(CapabilitiesRequest(short_name='GEDI02_B'))\n",
    "print(json.dumps(capabilities, indent=2))"
   ]
  },
  {
   "cell_type": "markdown",
   "id": "b8698dd9-6764-403a-8af9-3bda0223546b",
   "metadata": {},
   "source": [
    "## Create a Harmony Request\n",
    "\n",
    "There are several parameters that can be used for the Harmoney request. see [the documentation](https://harmony-py.readthedocs.io/en/latest/) and [the introductory Harmony tutorial ](https://github.com/nasa/harmony-py/blob/main/examples/intro_tutorial.ipynb) for more details. \n"
   ]
  },
  {
   "cell_type": "markdown",
   "id": "a7ee554a-9fd9-470a-b195-1c7490a64f15",
   "metadata": {},
   "source": [
    "### GEDI Collection Concept ID\n",
    "\n",
    "`collection` is a Required parameter. The concept ID, which is the NASA EOSDIS collection ID provided in the Common Metadata Repository (CMR) metadata **OR** Product short name (e.g. 'C2142776747-LPCLOUD') can be provided to search for collections. \n",
    "\n",
    "Below, `concept_id` is saved to a variable.  "
   ]
  },
  {
   "cell_type": "code",
   "execution_count": null,
   "id": "651a2479-5a0d-4b74-98c6-13da35859948",
   "metadata": {},
   "outputs": [],
   "source": [
    "print(capabilities['shortName'], ',', capabilities['conceptId'])\n",
    "\n",
    "concept_id = capabilities['conceptId']\n"
   ]
  },
  {
   "cell_type": "markdown",
   "id": "64b27d08-5eb3-494f-aa99-41009578f784",
   "metadata": {},
   "source": [
    "### GEDI Variable Subset"
   ]
  },
  {
   "cell_type": "markdown",
   "id": "541da625-7619-43df-9c2c-269b7cbf82e7",
   "metadata": {},
   "source": [
    "To learn more about the available layers, you can view the GEDI Dictionaries provided in [GEDI products' DOI Landing pages](https://lpdaac.usgs.gov/product_search/?query=gedi&status=Operational&view=cards&sort=title). The available GEDI datasets are also saved into a JSON file (`GEDI_Datasets.json`) stored in `data` folder and is used to view the available datasets here. \n",
    "\n"
   ]
  },
  {
   "cell_type": "code",
   "execution_count": null,
   "id": "632fcd4d-f492-45b8-95e4-bcb7f56bbf0f",
   "metadata": {},
   "outputs": [],
   "source": [
    "with open('data/GEDI_Datasets.json', 'r') as fp:\n",
    "    gedi_var = json.load(fp)\n",
    "\n",
    "L2B = gedi_var['GEDI_L2B']\n",
    "L2B[0:25]"
   ]
  },
  {
   "cell_type": "code",
   "execution_count": null,
   "id": "29808d9d-9c62-4858-939a-11ec5e92c325",
   "metadata": {},
   "outputs": [],
   "source": [
    "subset_L2B = ['geolocation/lat_lowestmode', 'geolocation/lon_lowestmode', 'geolocation/degrade_flag', 'geolocation/digital_elevation_model', 'geolocation/elev_lowestmode', 'lat_highestreturn', 'geolocation/lon_highestreturn', 'geolocation/elev_highestreturn', 'l2b_quality_flag', 'rh100', 'pai', 'pai_z', 'pavd_z']\n",
    "# subset_L2B = ['geolocation/lat_lowestmode', 'geolocation/lon_lowestmode', 'rh100']\n",
    "\n",
    "datasets_p = []\n",
    "for s in subset_L2B:\n",
    "    my_var = [v for v in L2B if v.endswith(f'{s}')]\n",
    "    if len(my_var) == 1:\n",
    "        datasets_p.append(my_var[0])\n",
    "        \n",
    "    elif len(my_var) > 1:\n",
    "        my_var = [v for v in my_var if v.startswith(f'{s}')]\n",
    "            \n",
    "        for l in my_var:\n",
    "            if l not in datasets_p:\n",
    "                datasets_p.append(l) \n",
    "\n",
    "datasets_p"
   ]
  },
  {
   "cell_type": "markdown",
   "id": "6ffac2f4-ca1e-4ed4-bb5a-d072a2e46db5",
   "metadata": {},
   "source": [
    "Select the subset of your desired beams. For instance, you can only select Full Power beams ('BEAM0101', 'BEAM0110', 'BEAM1000', 'BEAM1011')."
   ]
  },
  {
   "cell_type": "code",
   "execution_count": 8,
   "id": "4c31b5fe-b642-42ca-b080-11ca19cbac1b",
   "metadata": {},
   "outputs": [],
   "source": [
    "beams = ['BEAM0101', 'BEAM0110', 'BEAM1000', 'BEAM1011']  #['BEAM0000', 'BEAM0001', 'BEAM0010', 'BEAM0011', 'BEAM0101', 'BEAM0110', 'BEAM1000', 'BEAM1011']\n"
   ]
  },
  {
   "cell_type": "code",
   "execution_count": null,
   "id": "4f77a0f1-502c-4d4f-88a3-1bf436cd3d96",
   "metadata": {},
   "outputs": [],
   "source": [
    "subset = []\n",
    "for b in beams:\n",
    "    beam_subset = [f'/{b}/{layer}' for layer in datasets_p]\n",
    "    [subset.append(i) for i in beam_subset]\n",
    "subset"
   ]
  },
  {
   "cell_type": "markdown",
   "id": "6f45e515-2898-44b2-8b52-61d2e958c933",
   "metadata": {},
   "source": [
    "### Spatial Subset"
   ]
  },
  {
   "cell_type": "markdown",
   "id": "337e14b2-685e-4fb2-8f37-440a3fd39107",
   "metadata": {},
   "source": [
    "\n",
    "Both `spaial` and` shape` are the query parameters used for spatial subsetting using bounding box and shapefile/GeoJSON respectively. For the Bounding box, the Harmony `Bbox` class accepts spatial coordinates as decimal degrees in the order of west, south, east, and north coordinates (e.g.(-119.205104, 36.012018, -117.907297, 37.054834)). For the spatial subset using a region of interest, the path to a GeoJSON file (.json or .geojson), an ESRI Shapefile (.zip or .shz), or a kml file (.kml) as `shape` param are acceptable inputs. "
   ]
  },
  {
   "cell_type": "code",
   "execution_count": 11,
   "id": "0cff1ecd-eece-47bc-86a7-23e17364c3fb",
   "metadata": {},
   "outputs": [],
   "source": [
    "## path to the GeoJSON\n",
    "roi = BBox(-119.205104, 36.012018, -117.907297, 37.054834)\n"
   ]
  },
  {
   "cell_type": "markdown",
   "id": "87dffd9e-25e9-4d9f-8c79-bb4e13996854",
   "metadata": {},
   "source": [
    "### Temporal Subset"
   ]
  },
  {
   "cell_type": "markdown",
   "id": "da5edc4a-f449-4b48-a590-dd72462590e3",
   "metadata": {},
   "source": [
    "For temporal subsetting, the data temporal start and end ranges are used as a datetime object. Below, the start and end dates for the query are selected. "
   ]
  },
  {
   "cell_type": "code",
   "execution_count": 12,
   "id": "cb5d042d-b1b9-4b6d-b638-2ff8f85e2e82",
   "metadata": {},
   "outputs": [],
   "source": [
    "temporal_range = {'start': datetime(2022, 4, 1), \n",
    "                  'stop': datetime(2022, 4, 20)}"
   ]
  },
  {
   "cell_type": "markdown",
   "id": "5e89e486-b5d1-4050-abb4-711808cba65e",
   "metadata": {},
   "source": [
    "Finally, submit the Harmony request and get the request ID."
   ]
  },
  {
   "cell_type": "code",
   "execution_count": 13,
   "id": "edb844e7-5179-4612-bcde-220fa96b38bb",
   "metadata": {},
   "outputs": [],
   "source": [
    "request = Request(\n",
    "    collection = Collection(id=concept_id),\n",
    "    spatial = roi,    # for bbox\n",
    "    # shape = roi,   # for the GeoJSON\n",
    "    temporal = temporal_range,\n",
    "    variables = subset\n",
    ")"
   ]
  },
  {
   "cell_type": "markdown",
   "id": "7396cef7-66ed-4fc3-b46c-c7c203f6b0ed",
   "metadata": {},
   "source": [
    "You can check the validity of the request before submitting a Harmony Request."
   ]
  },
  {
   "cell_type": "code",
   "execution_count": null,
   "id": "c3eef342-bc48-48af-9436-17183beca0c2",
   "metadata": {},
   "outputs": [],
   "source": [
    "request.is_valid()"
   ]
  },
  {
   "cell_type": "markdown",
   "id": "9d876b33-a251-4c25-9f53-14a66072f3bd",
   "metadata": {},
   "source": [
    "Finally, submit the request and retrieve list of the processed data URLs once processing is complete. You may optionally show the progress bar below."
   ]
  },
  {
   "cell_type": "code",
   "execution_count": null,
   "id": "0c00f173-f3a0-4da0-b7a6-34bfe6c52926",
   "metadata": {
    "scrolled": true
   },
   "outputs": [],
   "source": [
    "task = harmony_client.submit(request)\n",
    "print(f'Harmony request ID: {task}')\n",
    "\n",
    "print(f'Processing your Harmony request:')\n",
    "task_json = harmony_client.result_json(task, show_progress=True)"
   ]
  },
  {
   "cell_type": "markdown",
   "id": "579bce11-c648-4401-b0b2-8f741d2ee144",
   "metadata": {},
   "source": [
    "Next, download the subset of data. "
   ]
  },
  {
   "cell_type": "code",
   "execution_count": 16,
   "id": "f93f44c5-d0be-45a2-acff-0608e6a1128f",
   "metadata": {},
   "outputs": [],
   "source": [
    "results = harmony_client.download_all(task, directory='data', overwrite=True)"
   ]
  },
  {
   "cell_type": "code",
   "execution_count": null,
   "id": "4326178d-2884-473b-a967-b4bad7c07837",
   "metadata": {},
   "outputs": [],
   "source": [
    "file_names = [f.result() for f in results]"
   ]
  },
  {
   "cell_type": "markdown",
   "id": "e3e8cbab-f359-431a-ae3c-2eb8e0c54bab",
   "metadata": {},
   "source": [
    "Function is defined to create a dataframe from our HDF5 Harmony subset file. Next, `Geodataframe` is created for all the downloaded subset file. "
   ]
  },
  {
   "cell_type": "code",
   "execution_count": 18,
   "id": "422bfadc-4ddd-45dc-a599-16197a7517e3",
   "metadata": {},
   "outputs": [],
   "source": [
    "def h5_to_dataframe(ds, beams, vars):\n",
    "    \"\"\"\n",
    "    This function takes Harmony subset of GEDI hdf5 and returns a dataframe. \n",
    "    \"\"\"\n",
    "    #read the dataset\n",
    "    gedi_ds = h5py.File(ds,'r')\n",
    "    # see what is the data product \n",
    "    product = gedi_ds['METADATA']['DatasetIdentification'].attrs['shortName']\n",
    "    fileName = gedi_ds['METADATA']['DatasetIdentification'].attrs['fileName']\n",
    "    date = datetime.strptime(fileName.rsplit('_')[2], '%Y%j%H%M%S').strftime('%Y-%m-%d %H:%M:%S')\n",
    "    # Create an empty DataFrame for this beam\n",
    "    df_beam = pd.DataFrame(columns=vars)\n",
    "    \n",
    "    for b in beams:\n",
    "        data_dic = {}\n",
    "        for v in vars:\n",
    "            # print(b,v)\n",
    "            value = gedi_ds[f'{b}/{v}'][()]\n",
    "            data_dic[v] = value.tolist() \n",
    "            \n",
    "        df_beam = pd.concat([df_beam, pd.DataFrame(data_dic)],join=\"inner\")\n",
    "        \n",
    "        # add product, beam, file name, and date columns \n",
    "        df_beam.insert(0, 'product', product)\n",
    "        df_beam.insert(1, 'Beam', b)\n",
    "        df_beam.insert(2, 'fileName' , fileName)\n",
    "        df_beam.insert(3, 'date', date)\n",
    "\n",
    "    return(df_beam.reset_index(drop=True))\n"
   ]
  },
  {
   "cell_type": "code",
   "execution_count": null,
   "id": "b8427603-9c05-4517-8014-2ba2df8a8307",
   "metadata": {},
   "outputs": [],
   "source": [
    "l2b_df = pd.DataFrame()\n",
    "\n",
    "for file in file_names:\n",
    "    print(file)\n",
    "    gedi_subset = h5_to_dataframe(file, beams, datasets_p)\n",
    "    l2b_df = gp.GeoDataFrame(pd.concat([l2b_df, gedi_subset]))\n",
    "    del gedi_subset\n",
    "\n",
    "# Reset the indeces\n",
    "l2b_df = l2b_df.reset_index(drop=True)\n",
    "l2b_df = l2b_df.rename(columns={'geolocation/lat_lowestmode': 'lat', 'geolocation/lon_lowestmode': 'lon'})\n",
    " # Take the lat/lon from dataframe and convert each lat/lon to a shapely point and convert to a Geodataframe\n",
    "l2b_df = gp.GeoDataFrame(l2b_df, geometry=l2b_df.apply(lambda row: Point(row.lon, row.lat), axis=1))\n"
   ]
  },
  {
   "cell_type": "code",
   "execution_count": null,
   "id": "a14af6a0-86b5-4d0f-b776-17a1df5cf2e0",
   "metadata": {},
   "outputs": [],
   "source": [
    "l2b_df.head()"
   ]
  },
  {
   "cell_type": "code",
   "execution_count": null,
   "id": "a6b2c920-9c13-40c1-8e24-747d02f496ce",
   "metadata": {},
   "outputs": [],
   "source": [
    "l2b_df.hvplot(cmap='viridis', clim=(0,l2b_df['pai'].max()), color='pai', size=1, frame_width=900, geo=True, tiles='ESRI')"
   ]
  },
  {
   "cell_type": "markdown",
   "id": "dd54bf34-4f4d-4a82-811a-852e1f3f2717",
   "metadata": {},
   "source": [
    "## Contact Info:  \n",
    "\n",
    "Email: LPDAAC@usgs.gov  \n",
    "Voice: +1-866-573-3222  \n",
    "Organization: Land Processes Distributed Active Archive Center (LP DAAC)¹  \n",
    "Website: <https://lpdaac.usgs.gov/>  \n",
    "Date last modified: 02-20-2024  \n",
    "\n",
    "¹Work performed under USGS contract G15PD00467 for NASA contract NNG14HH33I.  "
   ]
  }
 ],
 "metadata": {
  "kernelspec": {
   "display_name": "lp_tutorials",
   "language": "python",
   "name": "python3"
  },
  "language_info": {
   "codemirror_mode": {
    "name": "ipython",
    "version": 3
   },
   "file_extension": ".py",
   "mimetype": "text/x-python",
   "name": "python",
   "nbconvert_exporter": "python",
   "pygments_lexer": "ipython3",
   "version": "3.12.8"
  }
 },
 "nbformat": 4,
 "nbformat_minor": 5
}
